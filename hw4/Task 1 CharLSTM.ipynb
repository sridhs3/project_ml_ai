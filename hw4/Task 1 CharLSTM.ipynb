{
 "cells": [
  {
   "cell_type": "markdown",
   "metadata": {},
   "source": [
    "# Task 1 : char-rnn\n",
    "\n",
    "This task involved running the code from Andrej Karpathy's repository. However, the code is a legacy version with most of it's functionalities deprecated. So, the code the implemented from scratch, with all the original requirements."
   ]
  },
  {
   "cell_type": "code",
   "execution_count": null,
   "metadata": {
    "id": "04aDqo9waJuz"
   },
   "outputs": [],
   "source": [
    "import torch\n",
    "import torch.nn as nn\n",
    "import numpy as np\n",
    "import matplotlib.pyplot as plt\n",
    "import random\n",
    "import requests\n",
    "import torch.optim as optim\n",
    "from torch.utils.data import DataLoader, Dataset\n",
    "from torch.nn.utils.rnn import pad_sequence\n",
    "import os\n",
    "from tqdm import tqdm\n",
    "import matplotlib.pyplot as plt\n",
    "\n",
    "device = torch.device(\"cuda\" if torch.cuda.is_available() else \"cpu\")"
   ]
  },
  {
   "cell_type": "markdown",
   "metadata": {},
   "source": [
    "We'll first download the text file from the repository. The following snippet performs that."
   ]
  },
  {
   "cell_type": "code",
   "execution_count": null,
   "metadata": {
    "colab": {
     "base_uri": "https://localhost:8080/"
    },
    "id": "rO6NVJjjaT3T",
    "outputId": "115cc08f-9be6-4bd6-fa27-5f2338c72f3c"
   },
   "outputs": [
    {
     "name": "stdout",
     "output_type": "stream",
     "text": [
      "Downloaded Tiny Shakespeare dataset and saved as tinyshakespeare.txt\n"
     ]
    }
   ],
   "source": [
    "def download_tiny_shakespeare(url=\"https://raw.githubusercontent.com/karpathy/char-rnn/master/data/tinyshakespeare/input.txt\", file_name=\"tinyshakespeare.txt\"):\n",
    "    response = requests.get(url)\n",
    "    response.raise_for_status()  # Check if the download was successful\n",
    "\n",
    "    with open(file_name, 'w') as f:\n",
    "        f.write(response.text)\n",
    "\n",
    "    print(f\"Downloaded Tiny Shakespeare dataset and saved as {file_name}\")\n",
    "download_tiny_shakespeare()"
   ]
  },
  {
   "cell_type": "markdown",
   "metadata": {},
   "source": [
    "To streamline the pytorch pipeline, we need to feed the text data through the standardised Dataset class (inherited from `torch.utils.data`) and Dataloader."
   ]
  },
  {
   "cell_type": "code",
   "execution_count": null,
   "metadata": {
    "id": "8gL2QZzEexP4"
   },
   "outputs": [],
   "source": [
    "class ShakespeareDataset(Dataset):\n",
    "    def __init__(self, path, chunk_size=200):  # chunk_size is the number of characters in each chunk\n",
    "        with open(path, 'r', encoding='utf-8') as f:\n",
    "            text = f.read()\n",
    "\n",
    "        self.vocab = sorted(set(text))  # Create a list of unique characters\n",
    "        self.vocab_size = len(self.vocab)  # Get the number of unique characters\n",
    "        self.char_to_index = {ch: idx for idx, ch in enumerate(self.vocab)}  # Create a dictionary so that we can get the index of any character\n",
    "        self.index_to_char = {idx: ch for idx, ch in enumerate(self.vocab)}  # Create a dictionary so that we can get the character of any index\n",
    "\n",
    "        self.data = [self.char_to_index[char] for char in text] # Create a list of indices for each character\n",
    "        self.chunk_size = chunk_size\n",
    "\n",
    "    def __len__(self):\n",
    "        return len(self.data) // self.chunk_size\n",
    "\n",
    "    #For language modeling task, the ouput is basically the input text, offset by one letter ahead. \n",
    "    def __getitem__(self, idx):\n",
    "        chunk = self.data[idx*self.chunk_size:(idx+1)*self.chunk_size]\n",
    "        input_seq = torch.tensor(chunk[:-1], dtype=torch.long)\n",
    "        target_seq = torch.tensor(chunk[1:], dtype=torch.long)\n",
    "        return input_seq, target_seq\n",
    "\n",
    "def collate_fn(batch):\n",
    "    input_seqs, target_seqs = zip(*batch)\n",
    "    input_seqs = pad_sequence(input_seqs, batch_first=True, padding_value=0)\n",
    "    target_seqs = pad_sequence(target_seqs, batch_first=True, padding_value=0)\n",
    "    return input_seqs, target_seqs"
   ]
  },
  {
   "cell_type": "markdown",
   "metadata": {},
   "source": [
    "We'll now create the model. RNN layer is set to either LSTM or the vanilla variant depending on need."
   ]
  },
  {
   "cell_type": "code",
   "execution_count": null,
   "metadata": {
    "id": "t7WHoFEdezv_"
   },
   "outputs": [],
   "source": [
    "class RNNModel(nn.Module):\n",
    "    def __init__(self, vocab_size, embed_dim, hidden_dim, n_layers, dropout=0.5, rnn_type='LSTM'):\n",
    "        super(RNNModel, self).__init__()\n",
    "        self.embedding = nn.Embedding(vocab_size, embed_dim)\n",
    "        self.rnn_type = rnn_type\n",
    "        if rnn_type == 'LSTM':\n",
    "            self.rnn = nn.LSTM(embed_dim, hidden_dim, n_layers, dropout=dropout, batch_first=True)\n",
    "        elif rnn_type == 'RNN':\n",
    "            self.rnn = nn.RNN(embed_dim, hidden_dim, n_layers, dropout=dropout, batch_first=True)\n",
    "        else:\n",
    "            raise ValueError(\"Unsupported RNN type. Choose either 'LSTM' or 'RNN'.\")\n",
    "        self.fc = nn.Linear(hidden_dim, vocab_size)\n",
    "\n",
    "    def forward(self, x, hidden=None):\n",
    "        x = self.embedding(x)\n",
    "        x, hidden = self.rnn(x, hidden)\n",
    "        x = self.fc(x)\n",
    "        return x, hidden"
   ]
  },
  {
   "cell_type": "markdown",
   "metadata": {},
   "source": [
    "Small snippet to generate text from a trained model."
   ]
  },
  {
   "cell_type": "code",
   "execution_count": 1,
   "metadata": {
    "id": "gITYSTxBiek8"
   },
   "outputs": [],
   "source": [
    "def generate_text(model, dataset, device, seed_text='The', sequence_length=100):\n",
    "    model.to(device)\n",
    "    model.eval()\n",
    "    indices = [dataset.char_to_index[char] for char in seed_text]\n",
    "    input_seq = torch.tensor(indices, dtype=torch.long).unsqueeze(0).to(device)\n",
    "    text_generated = seed_text\n",
    "\n",
    "    with torch.no_grad():\n",
    "        for _ in range(sequence_length):\n",
    "            output, _ = model(input_seq)\n",
    "            output = output[:, -1, :]\n",
    "            predicted_index = output.argmax(1).item()\n",
    "            text_generated += dataset.index_to_char[predicted_index]\n",
    "\n",
    "            input_seq = torch.cat([input_seq, torch.tensor([[predicted_index]], device=device)], dim=1)\n",
    "    return text_generated"
   ]
  },
  {
   "cell_type": "code",
   "execution_count": null,
   "metadata": {
    "id": "QH926RvniiWf"
   },
   "outputs": [],
   "source": [
    "def train_model(model, dataloader, criterion, optimizer, epochs=501, device=torch.device('cpu')):\n",
    "    model.train()\n",
    "    model.to(device)\n",
    "    losses = []\n",
    "    progress_bar = tqdm(range(epochs), desc='Training Progress')\n",
    "    for epoch in progress_bar:\n",
    "        total_loss = 0\n",
    "        for input_seq, target_seq in dataloader:\n",
    "            input_seq, target_seq = input_seq.to(device), target_seq.to(device)\n",
    "            optimizer.zero_grad()\n",
    "            output, _ = model(input_seq)\n",
    "            loss = criterion(output.transpose(1, 2), target_seq)\n",
    "            loss.backward()\n",
    "            optimizer.step()\n",
    "            total_loss += loss.item()\n",
    "        epoch_loss = total_loss / len(dataloader)\n",
    "        losses.append(epoch_loss)\n",
    "        progress_bar.set_postfix({'epoch': epoch + 1, 'loss': epoch_loss})\n",
    "        if (epoch+1) in [5, 50, 100, 200, 250, 300, 400, 500]:  # Adjust this list based on the epochs you're interested in\n",
    "            torch.save(model.state_dict(), f'lstm_epoch_{epoch+1}.pth')\n",
    "            # Evaluate model and print text here if needed\n",
    "            model.eval()\n",
    "            generated_text = generate_text(model, dataset, device, seed_text=\"The\", sequence_length=100)\n",
    "            print(f'\\nGenerated Text at Epoch {epoch + 1}: {generated_text}\\n')\n",
    "            model.train()\n",
    "    return losses"
   ]
  },
  {
   "cell_type": "code",
   "execution_count": null,
   "metadata": {
    "id": "IhayE2nDe-k7"
   },
   "outputs": [],
   "source": [
    "dataset = ShakespeareDataset(\"tinyshakespeare.txt\", chunk_size=200)\n",
    "dataloader = DataLoader(dataset, batch_size=32, shuffle=True, collate_fn=collate_fn)"
   ]
  },
  {
   "cell_type": "markdown",
   "metadata": {},
   "source": [
    "For language modeling task, the ouput is basically the input text, offset by one letter ahead. We can see that from the follwing sample."
   ]
  },
  {
   "cell_type": "code",
   "execution_count": null,
   "metadata": {
    "colab": {
     "base_uri": "https://localhost:8080/"
    },
    "id": "8ZIJJQPVfCIs",
    "outputId": "8129858c-91d9-4ffb-c88a-74280c470b18"
   },
   "outputs": [
    {
     "name": "stdout",
     "output_type": "stream",
     "text": [
      "Sample Input :\n",
      "led mind drave me to walk abroad;\n",
      "Where, underneath the grove of sycamore\n",
      "That westward rooteth from the city's side,\n",
      "So early walking did I see your son:\n",
      "Towards him I made, but he was ware of me\n",
      "An\n",
      "\n",
      "\n",
      "Sample Target :\n",
      "ed mind drave me to walk abroad;\n",
      "Where, underneath the grove of sycamore\n",
      "That westward rooteth from the city's side,\n",
      "So early walking did I see your son:\n",
      "Towards him I made, but he was ware of me\n",
      "And\n"
     ]
    }
   ],
   "source": [
    "for input_seq, target_seq in dataloader:\n",
    "    sample_input_seq, sample_target_seq = input_seq[0], target_seq[0]\n",
    "    break\n",
    "\n",
    "sample_input_text = ''.join([dataset.index_to_char[idx.item()] for idx in sample_input_seq])\n",
    "sample_target_text = ''.join([dataset.index_to_char[idx.item()] for idx in sample_target_seq])\n",
    "\n",
    "print(f\"Sample Input :\\n{sample_input_text}\\n\\n\")\n",
    "print(f\"Sample Target :\\n{sample_target_text}\")"
   ]
  },
  {
   "cell_type": "markdown",
   "metadata": {},
   "source": [
    "We'll first run the vanilla RNN with the following hyper-parameters (similar to original repo). "
   ]
  },
  {
   "cell_type": "code",
   "execution_count": null,
   "metadata": {
    "id": "_xriqaqYgqF9"
   },
   "outputs": [],
   "source": [
    "model = RNNModel(vocab_size=1000, embed_dim=256, hidden_dim=512, n_layers=2, dropout=0.5, rnn_type='RNN')\n",
    "optimizer = optim.Adam(model.parameters(), lr=0.002)\n",
    "criterion = nn.CrossEntropyLoss()"
   ]
  },
  {
   "cell_type": "code",
   "execution_count": null,
   "metadata": {
    "colab": {
     "base_uri": "https://localhost:8080/",
     "height": 646
    },
    "id": "FYK7c_t4ix8Z",
    "outputId": "3a7d4535-8c4e-41d4-c041-3326765325fb"
   },
   "outputs": [
    {
     "name": "stderr",
     "output_type": "stream",
     "text": [
      "Training Progress:   1%|          | 5/501 [00:13<22:49,  2.76s/it, epoch=5, loss=1.58]"
     ]
    },
    {
     "name": "stdout",
     "output_type": "stream",
     "text": [
      "\n",
      "Generated Text at Epoch 5: The see the sease the sease the sease the sease the sease the sease the sease the sease the sease the s\n",
      "\n"
     ]
    },
    {
     "name": "stderr",
     "output_type": "stream",
     "text": [
      "Training Progress:  10%|▉         | 50/501 [02:07<19:20,  2.57s/it, epoch=50, loss=1.45]"
     ]
    },
    {
     "name": "stdout",
     "output_type": "stream",
     "text": [
      "\n",
      "Generated Text at Epoch 50: The words of the world to the world to the world to the world to the world to the world to the world to\n",
      "\n"
     ]
    },
    {
     "name": "stderr",
     "output_type": "stream",
     "text": [
      "Training Progress: 100%|█████████▉| 500/501 [21:03<00:02,  2.57s/it, epoch=500, loss=2.22]"
     ]
    },
    {
     "name": "stdout",
     "output_type": "stream",
     "text": [
      "\n",
      "Generated Text at Epoch 500: Ther the sou the sou the sou the sou the sou the sou the sou the sou the sou the sou the sou the sou th\n",
      "\n"
     ]
    },
    {
     "name": "stderr",
     "output_type": "stream",
     "text": [
      "Training Progress: 100%|██████████| 501/501 [21:06<00:00,  2.53s/it, epoch=501, loss=2.21]\n"
     ]
    },
    {
     "data": {
      "image/png": "[encoded data removed]",
      "text/plain": [
       "<Figure size 640x480 with 1 Axes>"
      ]
     },
     "metadata": {},
     "output_type": "display_data"
    }
   ],
   "source": [
    "losses = train_model(model, dataloader, criterion, optimizer, epochs=501, device=torch.device('cuda' if torch.cuda.is_available() else 'cpu'))\n",
    "plt.plot(losses, label='Training Loss')\n",
    "plt.xlabel('Epoch')\n",
    "plt.ylabel('Loss')\n",
    "plt.title('Training Loss Over Time')\n",
    "plt.legend()\n",
    "plt.show()"
   ]
  },
  {
   "cell_type": "markdown",
   "metadata": {},
   "source": [
    "Vanilla RNN clearly has some issues with it's implementation. Some possible reasons that could be hypothesized are\n",
    "- **Learning Rate**: A learning rate that's too high can cause the loss to fluctuate widely\n",
    "- Possible exploding gradients.\n",
    "- Dropout rate may be too high.\n",
    "- Seeing the generated text, it looks like model is memorizing the text (overfitting)\n",
    "\n",
    "We'll observe the same setup for LSTM model now."
   ]
  },
  {
   "cell_type": "code",
   "execution_count": null,
   "metadata": {
    "colab": {
     "base_uri": "https://localhost:8080/",
     "height": 750
    },
    "id": "AT7iwgOIhFnQ",
    "outputId": "bfe9c101-eae5-4fd8-d9ae-c03e3351aafd"
   },
   "outputs": [
    {
     "name": "stderr",
     "output_type": "stream",
     "text": [
      "Training Progress:   1%|          | 5/501 [00:16<27:48,  3.36s/it, epoch=5, loss=1.68]"
     ]
    },
    {
     "name": "stdout",
     "output_type": "stream",
     "text": [
      "\n",
      "Generated Text at Epoch 5: The shall be the son the son the son the son the son the son the son the son the son the son the son th\n",
      "\n"
     ]
    },
    {
     "name": "stderr",
     "output_type": "stream",
     "text": [
      "Training Progress:  10%|▉         | 50/501 [02:44<25:16,  3.36s/it, epoch=50, loss=1.26]"
     ]
    },
    {
     "name": "stdout",
     "output_type": "stream",
     "text": [
      "\n",
      "Generated Text at Epoch 50: The world that hath been to be a sight of the common soul and the common soul and the common souls\n",
      "That\n",
      "\n"
     ]
    },
    {
     "name": "stderr",
     "output_type": "stream",
     "text": [
      "Training Progress: 100%|█████████▉| 500/501 [27:27<00:03,  3.35s/it, epoch=500, loss=1.16]"
     ]
    },
    {
     "name": "stdout",
     "output_type": "stream",
     "text": [
      "\n",
      "Generated Text at Epoch 500: The would die the deep deed.\n",
      "\n",
      "GLOUCESTER:\n",
      "Ay, but thou hast slain to her the compass.\n",
      "\n",
      "KING RICHARD II:\n",
      "\n"
     ]
    },
    {
     "name": "stderr",
     "output_type": "stream",
     "text": [
      "Training Progress: 100%|██████████| 501/501 [27:31<00:00,  3.30s/it, epoch=501, loss=1.18]\n"
     ]
    },
    {
     "data": {
      "image/png": "[encoded data removed]",
      "text/plain": [
       "<Figure size 640x480 with 1 Axes>"
      ]
     },
     "metadata": {},
     "output_type": "display_data"
    }
   ],
   "source": [
    "model = RNNModel(vocab_size=1000, embed_dim=256, hidden_dim=512, n_layers=2, dropout=0.5, rnn_type='LSTM')\n",
    "optimizer = optim.Adam(model.parameters(), lr=0.002)\n",
    "criterion = nn.CrossEntropyLoss()\n",
    "losses = train_model(model, dataloader, criterion, optimizer, epochs=501, device=torch.device('cuda' if torch.cuda.is_available() else 'cpu'))\n",
    "plt.plot(losses, label='Training Loss')\n",
    "plt.xlabel('Epoch')\n",
    "plt.ylabel('Loss')\n",
    "plt.title('Training Loss Over Time')\n",
    "plt.legend()\n",
    "plt.show()"
   ]
  },
  {
   "cell_type": "markdown",
   "metadata": {
    "id": "pFNKvP2lfWGM"
   },
   "source": [
    "This definitely has much better performance. The training curve also seems to be stable enough. The quality in the generated text is also significantly superior.\n",
    "In the begining, the model seems to memorize the text (can be seen in Epoch 5 generation. However, with later epochs, it seems to have grasped richer vocabulary, and finally with Epoch 500, it seems to also include the style of Shakespeare's works."
   ]
  }
 ],
 "metadata": {
  "accelerator": "GPU",
  "colab": {
   "gpuType": "A100",
   "machine_shape": "hm",
   "provenance": []
  },
  "kernelspec": {
   "display_name": "Python 3 (ipykernel)",
   "language": "python",
   "name": "python3"
  },
  "language_info": {
   "codemirror_mode": {
    "name": "ipython",
    "version": 3
   },
   "file_extension": ".py",
   "mimetype": "text/x-python",
   "name": "python",
   "nbconvert_exporter": "python",
   "pygments_lexer": "ipython3",
   "version": "3.10.10"
  }
 },
 "nbformat": 4,
 "nbformat_minor": 4
}
